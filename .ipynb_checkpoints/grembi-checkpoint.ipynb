{
 "cells": [
  {
   "cell_type": "markdown",
   "id": "reserved-bridal",
   "metadata": {},
   "source": [
    "### le rose sono rosse / le viole sono blu / prendetemi per pazzo, sì / pazzo per Gesù"
   ]
  },
  {
   "cell_type": "code",
   "execution_count": null,
   "id": "romantic-window",
   "metadata": {},
   "outputs": [],
   "source": [
    "import grembi as fnz\n",
    "import pickle\n",
    "from bs4 import BeautifulSoup"
   ]
  },
  {
   "cell_type": "code",
   "execution_count": null,
   "id": "basic-amendment",
   "metadata": {},
   "outputs": [],
   "source": [
    "NE = 'north_east'\n",
    "SW = 'south_west'\n",
    "views = {\n",
    "'chinatown': {SW:(45.478530132389416,9.167947775395564),NE:(45.486329944279085,9.181335323890014),},\n",
    "'legit_milan': {SW:(45.43654061758556,9.1255932966908),NE:(45.52335073625751,9.25182332813564),},\n",
    "'feasible_milan': {SW:(45.43654061758556,9.1255932966908),NE:(45.52335073625751,9.25182332813564),},\n",
    "}"
   ]
  },
  {
   "cell_type": "code",
   "execution_count": null,
   "id": "existing-tennis",
   "metadata": {},
   "outputs": [],
   "source": [
    "n_reviews = 800\n",
    "meters = 140\n",
    "port = 'chinatown'\n",
    "\n",
    "# calls payout\n",
    "len(fnz.cute_types)*len(fnz.get_radars(meters, **view[port]))"
   ]
  },
  {
   "cell_type": "markdown",
   "id": "occupied-brake",
   "metadata": {},
   "source": [
    "##### API places"
   ]
  },
  {
   "cell_type": "code",
   "execution_count": null,
   "id": "arbitrary-ready",
   "metadata": {},
   "outputs": [],
   "source": [
    "pickle.dump(fnz.sample_viewport(meters, view[port]), open('cetriolini/'+port+\"_places_db.pkl\", \"wb\")"
   ]
  },
  {
   "cell_type": "code",
   "execution_count": null,
   "id": "thermal-maintenance",
   "metadata": {},
   "outputs": [],
   "source": [
    "places_db = pickle.load(open('cetriolini/'+port+\"_places_db.pkl\", \"rb\")) # list of dict-place"
   ]
  },
  {
   "cell_type": "markdown",
   "id": "central-timing",
   "metadata": {},
   "source": [
    "##### purify dataset"
   ]
  },
  {
   "cell_type": "code",
   "execution_count": null,
   "id": "prerequisite-rebate",
   "metadata": {},
   "outputs": [],
   "source": [
    "pickle.dump(fnz.purify_data(places_db), open('cetriolini/'+port+\"_data_low.pkl\", \"wb\"))"
   ]
  },
  {
   "cell_type": "code",
   "execution_count": null,
   "id": "fifth-possession",
   "metadata": {},
   "outputs": [],
   "source": [
    "data_low = pickle.load(open('cetriolini/'+port+\"_data_low.pkl\", \"rb\"))"
   ]
  },
  {
   "cell_type": "markdown",
   "id": "packed-synthetic",
   "metadata": {},
   "source": [
    "##### scraping reviews"
   ]
  },
  {
   "cell_type": "code",
   "execution_count": null,
   "id": "advance-commissioner",
   "metadata": {},
   "outputs": [],
   "source": [
    "pickle.dump(fnz.scrape_reviews([i['place_id'] for i in data_low], n_reviews), open('cetriolini/'+port+\"_reviews_db.pkl\", \"wb\"))"
   ]
  },
  {
   "cell_type": "code",
   "execution_count": null,
   "id": "subsequent-transfer",
   "metadata": {},
   "outputs": [],
   "source": [
    "reviews_db = pickle.load(open('cetriolini/'+port+\"_reviews_db.pkl\", \"rb\"))  # dict of list of htmls <- to BeautifulSoup(htmls)"
   ]
  },
  {
   "cell_type": "markdown",
   "id": "western-network",
   "metadata": {},
   "source": [
    "##### upgrade data"
   ]
  },
  {
   "cell_type": "code",
   "execution_count": null,
   "id": "atmospheric-restaurant",
   "metadata": {},
   "outputs": [],
   "source": [
    "pickle.dump(fnz.enrich_data(data_low, reviews_db), open('cetriolini/'+port+\"_data_high.pkl\", \"wb\"))"
   ]
  },
  {
   "cell_type": "code",
   "execution_count": null,
   "id": "fantastic-philippines",
   "metadata": {},
   "outputs": [],
   "source": [
    "data_high = pickle.load(open('cetriolini/'+port+\"_data_high.pkl\", \"rb\"))  # beautiful json"
   ]
  },
  {
   "cell_type": "code",
   "execution_count": null,
   "id": "stretch-ozone",
   "metadata": {},
   "outputs": [],
   "source": [
    "0/0"
   ]
  },
  {
   "cell_type": "code",
   "execution_count": null,
   "id": "simple-terrorist",
   "metadata": {},
   "outputs": [],
   "source": [
    "from collections import Counter\n",
    "prz = []\n",
    "for i in places_db:\n",
    "    if 'price_level' in i:\n",
    "        prz.append(i['price_level'])\n",
    "print(len(prz))\n",
    "print(Counter(prz))"
   ]
  },
  {
   "cell_type": "code",
   "execution_count": null,
   "id": "auburn-antenna",
   "metadata": {},
   "outputs": [],
   "source": []
  }
 ],
 "metadata": {
  "kernelspec": {
   "display_name": "Python 3",
   "language": "python",
   "name": "python3"
  },
  "language_info": {
   "codemirror_mode": {
    "name": "ipython",
    "version": 3
   },
   "file_extension": ".py",
   "mimetype": "text/x-python",
   "name": "python",
   "nbconvert_exporter": "python",
   "pygments_lexer": "ipython3",
   "version": "3.8.8"
  }
 },
 "nbformat": 4,
 "nbformat_minor": 5
}
