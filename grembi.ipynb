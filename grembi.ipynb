{
 "cells": [
  {
   "cell_type": "markdown",
   "id": "incomplete-budapest",
   "metadata": {},
   "source": [
    "### le rose sono rosse / le viole sono blu / prendetemi per pazzo, sì / pazzo per Gesù"
   ]
  },
  {
   "cell_type": "code",
   "execution_count": null,
   "id": "filled-lucas",
   "metadata": {},
   "outputs": [],
   "source": [
    "import grembi as fnz\n",
    "import pickle\n",
    "from collections import Counter\n",
    "from matplotlib import pyplot as plt\n",
    "import numpy as np\n",
    "import csv\n",
    "import seaborn as sns\n",
    "sns.set_style(\"darkgrid\")\n",
    "import pandas as pd"
   ]
  },
  {
   "cell_type": "code",
   "execution_count": null,
   "id": "solid-bible",
   "metadata": {},
   "outputs": [],
   "source": [
    "NE = 'north_east'\n",
    "SW = 'south_west'\n",
    "view = {\n",
    "'chinatown': {SW:(45.478530132389416,9.167947775395564),NE:(45.486329944279085,9.181335323890014),},\n",
    "#'legit_milan': {SW:(45.43654061758556,9.1255932966908),NE:(45.52335073625751,9.25182332813564),},\n",
    "'vittoria_dateo': {SW:(45.46218301808607, 9.206638223420574),NE:(45.468007095952004, 9.217281117503491),},\n",
    "'navigli_romana': {SW:(45.44416732498216, 9.158639723868536),NE:(45.452934043919186, 9.207787100677395),},\n",
    "}"
   ]
  },
  {
   "cell_type": "code",
   "execution_count": null,
   "id": "major-butter",
   "metadata": {},
   "outputs": [],
   "source": [
    "n_reviews = 400\n",
    "meters = 150\n",
    "recompute = (0,0,0,0)"
   ]
  },
  {
   "cell_type": "code",
   "execution_count": null,
   "id": "aboriginal-louisiana",
   "metadata": {},
   "outputs": [],
   "source": [
    "for port in view:    \n",
    "    print(port,'api calls:', len(fnz.cute_types)*len(fnz.get_radars(meters, **view[port])))\n",
    "\n",
    "    pickle.dump(fnz.sample_viewport(meters, view[port]), open('cetriolini/'+port+\"_places_db.pkl\", \"wb\")) if recompute[0] else None\n",
    "    places_db = pickle.load(open('cetriolini/'+port+\"_places_db.pkl\", \"rb\")) # list of dict-place\n",
    "\n",
    "    pickle.dump(fnz.purify_data(places_db), open('cetriolini/'+port+\"_data_low.pkl\", \"wb\")) if recompute[1] else None\n",
    "    data_low = pickle.load(open('cetriolini/'+port+\"_data_low.pkl\", \"rb\"))\n",
    "\n",
    "    pickle.dump(fnz.scrape_reviews([i['place_id'] for i in data_low], n_reviews), open('cetriolini/'+port+\"_reviews_db.pkl\", \"wb\")) if recompute[2] else None\n",
    "    reviews_db = pickle.load(open('cetriolini/'+port+\"_reviews_db.pkl\", \"rb\"))  # dict of list of htmls <- to BeautifulSoup(htmls)\n",
    "\n",
    "    pickle.dump(fnz.enrich_data(data_low, reviews_db), open('cetriolini/'+port+\"_data_high.pkl\", \"wb\")) if recompute[3] else None\n",
    "    data_high = pickle.load(open('cetriolini/'+port+\"_data_high.pkl\", \"rb\"))  # beautiful json"
   ]
  },
  {
   "cell_type": "markdown",
   "id": "amino-window",
   "metadata": {},
   "source": [
    "##### malchiodi docet"
   ]
  },
  {
   "cell_type": "code",
   "execution_count": null,
   "id": "powered-street",
   "metadata": {},
   "outputs": [],
   "source": [
    "data = []\n",
    "for i in view:\n",
    "    data += pickle.load(open('cetriolini/'+i+\"_data_high.pkl\", \"rb\"))"
   ]
  },
  {
   "cell_type": "code",
   "execution_count": null,
   "id": "coupled-reach",
   "metadata": {},
   "outputs": [],
   "source": [
    "# original dataframe\n",
    "df = pd.DataFrame([{**{i: p[i] for i in p if i!='reviews'}, **r} for p in data for r in p['reviews']])"
   ]
  },
  {
   "cell_type": "code",
   "execution_count": null,
   "id": "silver-rover",
   "metadata": {},
   "outputs": [],
   "source": [
    "# splatting types: NEVER NEVER NEVER on global analysis\n",
    "tmp = []\n",
    "for p in data:\n",
    "    for r in p['reviews']:\n",
    "        for t in fnz.cute_types:\n",
    "            if p[t]:\n",
    "                x = {i: p[i] for i in p if i not in fnz.cute_types+['reviews', ]}\n",
    "                x['type'] = t\n",
    "                tmp.append({**x, **r})\n",
    "df = pd.DataFrame(tmp)"
   ]
  },
  {
   "cell_type": "code",
   "execution_count": null,
   "id": "generic-measurement",
   "metadata": {},
   "outputs": [],
   "source": [
    "df['covid_month'] = df.apply(lambda row: 11-row['days_ago']//30, axis=1)"
   ]
  },
  {
   "cell_type": "code",
   "execution_count": null,
   "id": "official-schedule",
   "metadata": {},
   "outputs": [],
   "source": [
    "df['is_covid'] = df.apply(lambda row: row['days_ago'] < 365, axis=1)"
   ]
  },
  {
   "cell_type": "markdown",
   "id": "bottom-celebration",
   "metadata": {},
   "source": [
    "##### filters"
   ]
  },
  {
   "cell_type": "code",
   "execution_count": null,
   "id": "photographic-cameroon",
   "metadata": {},
   "outputs": [],
   "source": [
    "df = df[df['user_ratings_total'] > 5]"
   ]
  },
  {
   "cell_type": "code",
   "execution_count": null,
   "id": "surprised-laser",
   "metadata": {},
   "outputs": [],
   "source": [
    "df = df[df['price_level'].notna()]"
   ]
  },
  {
   "cell_type": "code",
   "execution_count": null,
   "id": "fantastic-schema",
   "metadata": {},
   "outputs": [],
   "source": [
    "df = df[df['place_id'].isin(df[df['days_ago']<365]['place_id'])]"
   ]
  },
  {
   "cell_type": "code",
   "execution_count": null,
   "id": "gentle-facing",
   "metadata": {},
   "outputs": [],
   "source": [
    "df = df[df['days_ago'] < 365*1+1]"
   ]
  },
  {
   "cell_type": "markdown",
   "id": "adult-ordering",
   "metadata": {},
   "source": [
    "##### analysis"
   ]
  },
  {
   "cell_type": "code",
   "execution_count": null,
   "id": "constant-brief",
   "metadata": {},
   "outputs": [],
   "source": [
    "gini = df.groupby(['name', 'covid_month', 'type', ]).size().reset_index(name='counts')\n",
    "gini"
   ]
  },
  {
   "cell_type": "code",
   "execution_count": null,
   "id": "touched-calculation",
   "metadata": {},
   "outputs": [],
   "source": [
    "def hhi(series):\n",
    "    _, cnt = np.unique(series, return_counts=True)\n",
    "    return np.square(cnt/cnt.sum()).sum()\n",
    "\n",
    "dini = gini.groupby(['covid_month', 'type', ]).agg({'name': hhi, })\n",
    "dini.reset_index(inplace=True)\n",
    "dini = dini.rename(columns={\"name\": \"hhi\", })\n",
    "dini"
   ]
  },
  {
   "cell_type": "code",
   "execution_count": null,
   "id": "tender-costume",
   "metadata": {},
   "outputs": [],
   "source": [
    "sns.set(rc={'figure.figsize':(10,7)})\n",
    "sns.lineplot(data=dini, x='covid_month', y='hhi', hue='type', style='type', markers=True, dashes=False, palette='colorblind')"
   ]
  },
  {
   "cell_type": "markdown",
   "id": "cordless-commons",
   "metadata": {},
   "source": [
    "##### athmos"
   ]
  },
  {
   "cell_type": "code",
   "execution_count": null,
   "id": "excellent-generic",
   "metadata": {},
   "outputs": [],
   "source": [
    "for t in fnz.cute_types:\n",
    "    f = open(\"marmellate/\"+t+\"_atmos_star.csv\", \"w\")\n",
    "    f.write(df[df[t]].to_csv(index=False))\n",
    "    f.close()"
   ]
  },
  {
   "cell_type": "markdown",
   "id": "psychological-wound",
   "metadata": {},
   "source": [
    "##### anova"
   ]
  },
  {
   "cell_type": "code",
   "execution_count": null,
   "id": "bronze-beaver",
   "metadata": {},
   "outputs": [],
   "source": [
    "#sns.set()\n",
    "sns.pointplot(data=df, x='covid_month', y='stars', hue='type', style='type', dodge=True, capsize=.1, errwidth=1, palette='colorblind')"
   ]
  },
  {
   "cell_type": "markdown",
   "id": "collect-import",
   "metadata": {},
   "source": [
    "##### stats"
   ]
  },
  {
   "cell_type": "code",
   "execution_count": null,
   "id": "authentic-roman",
   "metadata": {},
   "outputs": [],
   "source": [
    "a = [i['user_ratings_total'] for i in data if i]"
   ]
  },
  {
   "cell_type": "code",
   "execution_count": null,
   "id": "graduate-attachment",
   "metadata": {},
   "outputs": [],
   "source": [
    "fig = plt.figure()#figsize=sq_leaf)\n",
    "ax = fig.gca()\n",
    "eps = 1\n",
    "y, x = np.histogram(a, np.arange(0, max(a)+2*eps, eps))\n",
    "ax.plot(x[:-1], y, marker='.',ms=3.0, linewidth=0.0, linestyle='-', color='purple')\n",
    "ax.set_xlim(1, 30)\n",
    "#ax.axes.get_yaxis().set_visible(False)\n",
    "#ax.axvline(x=numpy.mean(a), color='blue', linewidth=1.2)\n",
    "#ax.axvline(x=numpy.median(a), color='red', linewidth=1.2)\n",
    "#ax.text(16, 300000,'$\\mu$')\n",
    "#ax.text(6, 30000,'$0.5q$')"
   ]
  },
  {
   "cell_type": "code",
   "execution_count": null,
   "id": "stunning-chart",
   "metadata": {},
   "outputs": [],
   "source": [
    "plt.boxplot(np.log10(a))"
   ]
  }
 ],
 "metadata": {
  "kernelspec": {
   "display_name": "Python 3",
   "language": "python",
   "name": "python3"
  },
  "language_info": {
   "codemirror_mode": {
    "name": "ipython",
    "version": 3
   },
   "file_extension": ".py",
   "mimetype": "text/x-python",
   "name": "python",
   "nbconvert_exporter": "python",
   "pygments_lexer": "ipython3",
   "version": "3.8.8"
  }
 },
 "nbformat": 4,
 "nbformat_minor": 5
}
