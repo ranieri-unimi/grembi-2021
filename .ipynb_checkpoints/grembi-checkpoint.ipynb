{
 "cells": [
  {
   "cell_type": "markdown",
   "id": "blank-choice",
   "metadata": {},
   "source": [
    "### le rose sono rosse / le viole sono blu / prendetemi per pazzo, sì / pazzo per Gesù"
   ]
  },
  {
   "cell_type": "code",
   "execution_count": null,
   "id": "straight-western",
   "metadata": {},
   "outputs": [],
   "source": [
    "import funzfunz as fnz\n",
    "import pickle\n",
    "from bs4 import BeautifulSoup"
   ]
  },
  {
   "cell_type": "code",
   "execution_count": null,
   "id": "regional-interval",
   "metadata": {},
   "outputs": [],
   "source": [
    "NE = 'north_east'\n",
    "SW = 'south_west'\n",
    "chinatown = {SW:(45.478530132389416,9.167947775395564),NE:(45.486329944279085,9.181335323890014),}\n",
    "milan = {SW:(45.43654061758556,9.1255932966908),NE:(45.52335073625751,9.25182332813564),}"
   ]
  },
  {
   "cell_type": "code",
   "execution_count": null,
   "id": "european-month",
   "metadata": {},
   "outputs": [],
   "source": [
    "meters = 100\n",
    "n_reviews = 800"
   ]
  },
  {
   "cell_type": "code",
   "execution_count": null,
   "id": "committed-medline",
   "metadata": {},
   "outputs": [],
   "source": [
    "# calls payout\n",
    "len(fnz.cute_types)*len(fnz.get_radars(**milan, meters=150))"
   ]
  },
  {
   "cell_type": "markdown",
   "id": "alive-device",
   "metadata": {},
   "source": [
    "##### API places"
   ]
  },
  {
   "cell_type": "code",
   "execution_count": null,
   "id": "reserved-insurance",
   "metadata": {},
   "outputs": [],
   "source": [
    "# pickle.dump(fnz.sample_viewport(chinatown, meters), open(\"places_db.pkl\", \"wb\")"
   ]
  },
  {
   "cell_type": "code",
   "execution_count": null,
   "id": "specialized-section",
   "metadata": {},
   "outputs": [],
   "source": [
    "places_db = pickle.load(open(\"places_db.pkl\", \"rb\")) # list of dict-place"
   ]
  },
  {
   "cell_type": "code",
   "execution_count": null,
   "id": "accessory-antarctica",
   "metadata": {},
   "outputs": [],
   "source": [
    "data = [fnz.clean_place(p) for p in places_db] # list of dict-place"
   ]
  },
  {
   "cell_type": "markdown",
   "id": "sealed-second",
   "metadata": {},
   "source": [
    "##### scraping reviews"
   ]
  },
  {
   "cell_type": "code",
   "execution_count": null,
   "id": "fantastic-standing",
   "metadata": {},
   "outputs": [],
   "source": [
    "# pickle.dump(fnz.scrape_reviews([i['place_id'] for i in data], n_reviews), open(\"reviews_db.pkl\", \"wb\"))"
   ]
  },
  {
   "cell_type": "code",
   "execution_count": null,
   "id": "unlikely-reconstruction",
   "metadata": {},
   "outputs": [],
   "source": [
    "reviews_db = pickle.load(open(\"reviews_db.pkl\", \"rb\"))  # dict of list of htmls <- to BeautifulSoup(htmls)"
   ]
  },
  {
   "cell_type": "markdown",
   "id": "metropolitan-gilbert",
   "metadata": {},
   "source": [
    "##### clean data"
   ]
  },
  {
   "cell_type": "code",
   "execution_count": null,
   "id": "moderate-territory",
   "metadata": {},
   "outputs": [],
   "source": [
    "#'''\n",
    "for i in range(len(data)):\n",
    "    data[i]['rewiews'] = []\n",
    "    for r in reviews_db[data[i]['place_id']]:\n",
    "         data[i]['rewiews'].append(fnz.clean_review(BeautifulSoup(r)))\n",
    "pickle.dump(data, open(\"data.pkl\", \"wb\"))\n",
    "#'''"
   ]
  },
  {
   "cell_type": "code",
   "execution_count": null,
   "id": "fossil-pizza",
   "metadata": {},
   "outputs": [],
   "source": [
    "data = pickle.load(open(\"data.pkl\", \"rb\"))  # beautiful json"
   ]
  },
  {
   "cell_type": "code",
   "execution_count": null,
   "id": "closing-edinburgh",
   "metadata": {},
   "outputs": [],
   "source": [
    "# net cover\n",
    "ids = set()\n",
    "for i in places_db:\n",
    "    ids.add(i['name'])\n",
    "100*len(ids)/len(places_db)"
   ]
  },
  {
   "cell_type": "code",
   "execution_count": null,
   "id": "banner-specialist",
   "metadata": {},
   "outputs": [],
   "source": [
    "from collections import Counter\n",
    "prz = []\n",
    "for i in places_db:\n",
    "    if 'price_level' in i:\n",
    "        prz.append(i['price_level'])\n",
    "print(len(prz))\n",
    "print(Counter(prz))"
   ]
  }
 ],
 "metadata": {
  "kernelspec": {
   "display_name": "Python 3",
   "language": "python",
   "name": "python3"
  },
  "language_info": {
   "codemirror_mode": {
    "name": "ipython",
    "version": 3
   },
   "file_extension": ".py",
   "mimetype": "text/x-python",
   "name": "python",
   "nbconvert_exporter": "python",
   "pygments_lexer": "ipython3",
   "version": "3.8.8"
  }
 },
 "nbformat": 4,
 "nbformat_minor": 5
}
