{
 "cells": [
  {
   "cell_type": "markdown",
   "id": "mobile-visitor",
   "metadata": {},
   "source": [
    "### le rose sono rosse / le viole sono blu / prendetemi per pazzo, sì / pazzo per Gesù"
   ]
  },
  {
   "cell_type": "code",
   "execution_count": null,
   "id": "frozen-elephant",
   "metadata": {},
   "outputs": [],
   "source": [
    "import grembi as fnz\n",
    "import pickle"
   ]
  },
  {
   "cell_type": "code",
   "execution_count": null,
   "id": "recent-strap",
   "metadata": {},
   "outputs": [],
   "source": [
    "NE = 'north_east'\n",
    "SW = 'south_west'\n",
    "view = {\n",
    "'chinatown': {SW:(45.478530132389416,9.167947775395564),NE:(45.486329944279085,9.181335323890014),},\n",
    "'legit_milan': {SW:(45.43654061758556,9.1255932966908),NE:(45.52335073625751,9.25182332813564),},\n",
    "'vittoria_dateo': {SW:(45.46218301808607, 9.206638223420574),NE:(45.468007095952004, 9.217281117503491),},\n",
    "'vittoria_venezia': {SW:(45.46218301808607, 9.206638223420574),NE:(45.47449273398143, 9.217184634584571),},\n",
    "}"
   ]
  },
  {
   "cell_type": "code",
   "execution_count": null,
   "id": "traditional-bowling",
   "metadata": {},
   "outputs": [],
   "source": [
    "n_reviews = 200\n",
    "meters = 150\n",
    "port = 'vittoria_dateo'\n",
    "\n",
    "# calls payout\n",
    "len(fnz.cute_types)*len(fnz.get_radars(meters, **view[port]))"
   ]
  },
  {
   "cell_type": "markdown",
   "id": "approximate-claim",
   "metadata": {},
   "source": [
    "##### API places"
   ]
  },
  {
   "cell_type": "code",
   "execution_count": null,
   "id": "constitutional-malawi",
   "metadata": {},
   "outputs": [],
   "source": [
    "#pickle.dump(fnz.sample_viewport(meters, view[port]), open('cetriolini/'+port+\"_places_db.pkl\", \"wb\"))"
   ]
  },
  {
   "cell_type": "code",
   "execution_count": null,
   "id": "expanded-detection",
   "metadata": {},
   "outputs": [],
   "source": [
    "places_db = pickle.load(open('cetriolini/'+port+\"_places_db.pkl\", \"rb\")) # list of dict-place"
   ]
  },
  {
   "cell_type": "markdown",
   "id": "attractive-corps",
   "metadata": {},
   "source": [
    "##### purify dataset"
   ]
  },
  {
   "cell_type": "code",
   "execution_count": null,
   "id": "altered-convention",
   "metadata": {},
   "outputs": [],
   "source": [
    "#pickle.dump(fnz.purify_data(places_db), open('cetriolini/'+port+\"_data_low.pkl\", \"wb\"))"
   ]
  },
  {
   "cell_type": "code",
   "execution_count": null,
   "id": "industrial-bride",
   "metadata": {},
   "outputs": [],
   "source": [
    "data_low = pickle.load(open('cetriolini/'+port+\"_data_low.pkl\", \"rb\"))"
   ]
  },
  {
   "cell_type": "markdown",
   "id": "settled-bangladesh",
   "metadata": {},
   "source": [
    "##### scraping reviews"
   ]
  },
  {
   "cell_type": "code",
   "execution_count": null,
   "id": "occupied-humor",
   "metadata": {},
   "outputs": [],
   "source": [
    "fnz.BHD = 1.5"
   ]
  },
  {
   "cell_type": "code",
   "execution_count": null,
   "id": "unknown-degree",
   "metadata": {},
   "outputs": [],
   "source": [
    "pickle.dump(fnz.scrape_reviews([i['place_id'] for i in data_low], n_reviews), open('cetriolini/'+port+\"_reviews_db.pkl\", \"wb\"))"
   ]
  },
  {
   "cell_type": "code",
   "execution_count": null,
   "id": "sitting-paraguay",
   "metadata": {},
   "outputs": [],
   "source": [
    "reviews_db = pickle.load(open('cetriolini/'+port+\"_reviews_db.pkl\", \"rb\"))  # dict of list of htmls <- to BeautifulSoup(htmls)"
   ]
  },
  {
   "cell_type": "markdown",
   "id": "professional-burton",
   "metadata": {},
   "source": [
    "##### upgrade data"
   ]
  },
  {
   "cell_type": "code",
   "execution_count": null,
   "id": "western-steam",
   "metadata": {},
   "outputs": [],
   "source": [
    "pickle.dump(fnz.enrich_data(data_low, reviews_db), open('cetriolini/'+port+\"_data_high.pkl\", \"wb\"))"
   ]
  },
  {
   "cell_type": "code",
   "execution_count": null,
   "id": "rotary-replication",
   "metadata": {},
   "outputs": [],
   "source": [
    "data_high = pickle.load(open('cetriolini/'+port+\"_data_high.pkl\", \"rb\"))  # beautiful json"
   ]
  },
  {
   "cell_type": "code",
   "execution_count": null,
   "id": "protective-flashing",
   "metadata": {},
   "outputs": [],
   "source": [
    "0/0"
   ]
  },
  {
   "cell_type": "code",
   "execution_count": null,
   "id": "foster-visibility",
   "metadata": {},
   "outputs": [],
   "source": [
    "from collections import Counter\n",
    "prz = []\n",
    "for i in places_db:\n",
    "    if 'price_level' in i:\n",
    "        prz.append(i['price_level'])\n",
    "print(len(prz))\n",
    "print(Counter(prz))"
   ]
  },
  {
   "cell_type": "code",
   "execution_count": null,
   "id": "lovely-federal",
   "metadata": {},
   "outputs": [],
   "source": [
    "data_low"
   ]
  },
  {
   "cell_type": "code",
   "execution_count": null,
   "id": "single-bernard",
   "metadata": {},
   "outputs": [],
   "source": []
  }
 ],
 "metadata": {
  "kernelspec": {
   "display_name": "Python 3",
   "language": "python",
   "name": "python3"
  },
  "language_info": {
   "codemirror_mode": {
    "name": "ipython",
    "version": 3
   },
   "file_extension": ".py",
   "mimetype": "text/x-python",
   "name": "python",
   "nbconvert_exporter": "python",
   "pygments_lexer": "ipython3",
   "version": "3.8.8"
  }
 },
 "nbformat": 4,
 "nbformat_minor": 5
}
