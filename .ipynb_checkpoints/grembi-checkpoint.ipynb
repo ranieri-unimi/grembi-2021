{
 "cells": [
  {
   "cell_type": "markdown",
   "id": "neutral-organ",
   "metadata": {},
   "source": [
    "### le rose sono rosse / le viole sono blu / prendetemi per pazzo, sì / pazzo per Gesù"
   ]
  },
  {
   "cell_type": "code",
   "execution_count": null,
   "id": "developmental-heart",
   "metadata": {},
   "outputs": [],
   "source": [
    "import grembi as fnz\n",
    "import pickle\n",
    "from collections import Counter\n",
    "from matplotlib import pyplot as plt\n",
    "import numpy as np\n",
    "import csv\n",
    "import pandas as pd\n",
    "import math"
   ]
  },
  {
   "cell_type": "code",
   "execution_count": null,
   "id": "alleged-mustang",
   "metadata": {},
   "outputs": [],
   "source": [
    "import seaborn as sns\n",
    "sns.set_style(\"whitegrid\")\n",
    "sns.set(rc={'figure.figsize':(6,4)})"
   ]
  },
  {
   "cell_type": "code",
   "execution_count": null,
   "id": "thick-green",
   "metadata": {},
   "outputs": [],
   "source": [
    "NE = 'north_east'\n",
    "SW = 'south_west'\n",
    "view = {\n",
    "'chinatown': {SW:(45.478530132389416,9.167947775395564),NE:(45.486329944279085,9.181335323890014),},\n",
    "#'legit_milan': {SW:(45.43654061758556,9.1255932966908),NE:(45.52335073625751,9.25182332813564),},\n",
    "'vittoria_dateo': {SW:(45.46218301808607, 9.206638223420574),NE:(45.468007095952004, 9.217281117503491),},\n",
    "'navigli_romana': {SW:(45.44416732498216, 9.158639723868536),NE:(45.452934043919186, 9.207787100677395),},\n",
    "}"
   ]
  },
  {
   "cell_type": "markdown",
   "id": "final-radar",
   "metadata": {},
   "source": [
    "##### gathering"
   ]
  },
  {
   "cell_type": "code",
   "execution_count": null,
   "id": "announced-dominican",
   "metadata": {},
   "outputs": [],
   "source": [
    "eps = 0.0001\n",
    "n_reviews = 400\n",
    "meters = 150\n",
    "recompute = (0,0,0,0)"
   ]
  },
  {
   "cell_type": "code",
   "execution_count": null,
   "id": "pending-milton",
   "metadata": {},
   "outputs": [],
   "source": [
    "for port in view:    \n",
    "    print(port,'api calls:', len(fnz.cute_types)*len(fnz.get_radars(meters, **view[port])))\n",
    "\n",
    "    pickle.dump(fnz.sample_viewport(meters, view[port]), open('cetriolini/'+port+\"_places_db.pkl\", \"wb\")) if recompute[0] else None\n",
    "    places_db = pickle.load(open('cetriolini/'+port+\"_places_db.pkl\", \"rb\")) # list of dict-place\n",
    "\n",
    "    pickle.dump(fnz.purify_data(places_db), open('cetriolini/'+port+\"_data_low.pkl\", \"wb\")) if recompute[1] else None\n",
    "    data_low = pickle.load(open('cetriolini/'+port+\"_data_low.pkl\", \"rb\"))\n",
    "\n",
    "    pickle.dump(fnz.scrape_reviews([i['place_id'] for i in data_low], n_reviews), open('cetriolini/'+port+\"_reviews_db.pkl\", \"wb\")) if recompute[2] else None\n",
    "    reviews_db = pickle.load(open('cetriolini/'+port+\"_reviews_db.pkl\", \"rb\"))  # dict of list of htmls <- to BeautifulSoup(htmls)\n",
    "\n",
    "    pickle.dump(fnz.enrich_data(data_low, reviews_db), open('cetriolini/'+port+\"_data_high.pkl\", \"wb\")) if recompute[3] else None\n",
    "    data_high = pickle.load(open('cetriolini/'+port+\"_data_high.pkl\", \"rb\"))  # beautiful json"
   ]
  },
  {
   "cell_type": "code",
   "execution_count": null,
   "id": "classified-stocks",
   "metadata": {},
   "outputs": [],
   "source": [
    "def gen_df(splatted=0, reduced=0):\n",
    "    global df\n",
    "    data = []\n",
    "    for i in view:\n",
    "        data += pickle.load(open('cetriolini/'+i+\"_data_high.pkl\", \"rb\")) \n",
    "    \n",
    "    df = pd.DataFrame([{**{i: p[i] for i in p if i!='reviews'}, **r} for p in data for r in p['reviews']])\n",
    "    \n",
    "    types_list = fnz.red_types if reduced else fnz.cute_types\n",
    "    \n",
    "    if splatted:\n",
    "        tmp = [] # splatting types: NEVER NEVER NEVER on global analysis\n",
    "        for p in data:\n",
    "            for r in p['reviews']:\n",
    "                for t in types_list:\n",
    "                    if p[t]:\n",
    "                        x = {i: p[i] for i in p if i not in types_list+['reviews', ]}\n",
    "                        x['type'] = t\n",
    "                        tmp.append({**x, **r})\n",
    "        df = pd.DataFrame(tmp)\n",
    "        \n",
    "    df = df.rename(columns=dict(zip(fnz.cute_attr, fnz.ren_attr)))\n",
    "    df['month_past_covid'] = df.apply(lambda row: 11-row['days_ago']//30, axis=1)\n",
    "    df['is_covid'] = df.apply(lambda row: 1 if row['days_ago'] < 365 else 0, axis=1)\n",
    "    df['place_popularity'] = df.apply(lambda row: math.floor(math.log(row['place_popularity']*10, 10)), axis=1)\n",
    "    df['user_popularity'] = df.apply(lambda row: math.floor(math.log(row['user_popularity']*10, 10)), axis=1)\n",
    "    df['covid_magnitude'] = df.apply(lambda row: {**{row['month_past_covid']:row['is_covid'] }, **dict(zip([0,1,2,8,9,10],[2,2,1,1,2,1]))}[row['month_past_covid']], axis=1)"
   ]
  },
  {
   "cell_type": "code",
   "execution_count": null,
   "id": "stuck-lancaster",
   "metadata": {},
   "outputs": [],
   "source": [
    "def rew_df(splatted=0, reduced=0):\n",
    "    global df\n",
    "    gen_df(0, reduced)\n",
    "    \n",
    "    f = open(\"marmellate/global_atmosphere.csv\", \"w\")\n",
    "    f.write(df.to_csv(index=False))\n",
    "    f.close()\n",
    "    \n",
    "    appx = 'reduced_' if reduced else ''\n",
    "    for t in fnz.red_types if reduced else fnz.cute_types:\n",
    "        f = open(\"marmellate/\"+appx+t+\"_atmosphere.csv\", \"w\")\n",
    "        f.write(df[df[t]].to_csv(index=False))\n",
    "        f.close()\n",
    "        \n",
    "    if splatted:\n",
    "        gen_df(splatted, reduced)"
   ]
  },
  {
   "cell_type": "code",
   "execution_count": null,
   "id": "southern-socket",
   "metadata": {},
   "outputs": [],
   "source": [
    "def ssi(series):\n",
    "    _, cnt = np.unique(series, return_counts=True)\n",
    "    ssi = np.square(cnt/cnt.sum()).sum()\n",
    "    return ssi"
   ]
  },
  {
   "cell_type": "code",
   "execution_count": null,
   "id": "structural-access",
   "metadata": {},
   "outputs": [],
   "source": [
    "def nhhi(series):\n",
    "    i = 1/(eps+len(series))\n",
    "    return (ssi(series) - i)/(1-i)"
   ]
  },
  {
   "cell_type": "code",
   "execution_count": null,
   "id": "documented-trance",
   "metadata": {},
   "outputs": [],
   "source": [
    "def bhhi(series):\n",
    "    i = math.sqrt(1/(eps+len(series)))\n",
    "    return (math.sqrt(ssi(series)) - i)/(1-i)"
   ]
  },
  {
   "cell_type": "code",
   "execution_count": null,
   "id": "recent-distinction",
   "metadata": {},
   "outputs": [],
   "source": [
    "def cheee(name):\n",
    "    plt.savefig('disegnini/'+name+'.png', dpi=300, format='png', transparent=False, pad_inches=0.10)"
   ]
  },
  {
   "cell_type": "markdown",
   "id": "possible-institution",
   "metadata": {},
   "source": [
    "##### here we go"
   ]
  },
  {
   "cell_type": "code",
   "execution_count": null,
   "id": "matched-school",
   "metadata": {},
   "outputs": [],
   "source": [
    "#rew_df(0,0)\n",
    "gen_df(1,1)"
   ]
  },
  {
   "cell_type": "code",
   "execution_count": null,
   "id": "determined-motor",
   "metadata": {},
   "outputs": [],
   "source": [
    "# 'price_level', 'place_popularity', 'type',"
   ]
  },
  {
   "cell_type": "code",
   "execution_count": null,
   "id": "coordinated-romance",
   "metadata": {},
   "outputs": [],
   "source": [
    "cnt_alg = 'bhhi'\n",
    "cnt_grp = 'type' # reload GENDF if != 'type'"
   ]
  },
  {
   "cell_type": "markdown",
   "id": "invalid-october",
   "metadata": {},
   "source": [
    "##### filters"
   ]
  },
  {
   "cell_type": "code",
   "execution_count": null,
   "id": "rental-bleeding",
   "metadata": {},
   "outputs": [],
   "source": [
    "df = df[df['days_ago'] < 366] # time window"
   ]
  },
  {
   "cell_type": "code",
   "execution_count": null,
   "id": "radio-touch",
   "metadata": {},
   "outputs": [],
   "source": [
    "df = df[df['price_level'].notna()] # has a price level"
   ]
  },
  {
   "cell_type": "code",
   "execution_count": null,
   "id": "immediate-activation",
   "metadata": {},
   "outputs": [],
   "source": [
    "df = df[df['price_level'] < 4 ] # no 4 price level"
   ]
  },
  {
   "cell_type": "code",
   "execution_count": null,
   "id": "incorporated-bangladesh",
   "metadata": {},
   "outputs": [],
   "source": [
    "df = df[df['place_popularity'] > 1] # at least log reviews"
   ]
  },
  {
   "cell_type": "code",
   "execution_count": null,
   "id": "civilian-adult",
   "metadata": {},
   "outputs": [],
   "source": [
    "df = df[df['place_id'].isin(df[df['days_ago']<365]['place_id'])] # was open during covid"
   ]
  },
  {
   "cell_type": "code",
   "execution_count": null,
   "id": "suited-terminal",
   "metadata": {},
   "outputs": [],
   "source": [
    "#df['type'] = df['type'].map({'bar':'bar_cafe','cafe':'bar_cafe','meal_delivery':'delivery_takeaway','meal_takeaway':'delivery_takeaway', 'restaurant':'restaurant'}) #compact type"
   ]
  },
  {
   "cell_type": "markdown",
   "id": "random-thanksgiving",
   "metadata": {},
   "source": [
    "##### distro"
   ]
  },
  {
   "cell_type": "code",
   "execution_count": null,
   "id": "still-salmon",
   "metadata": {},
   "outputs": [],
   "source": [
    "sns.pointplot(data=df, x='month_past_covid', y='stars', hue=cnt_grp, style=cnt_grp, dodge=True, capsize=.1, errwidth=1, palette='colorblind')\n",
    "plt.axvline(2, 0, 20, color='red', linewidth=1.2, linestyle='--')\n",
    "plt.axvline(10, 0, 20, color='red', linewidth=1.2, linestyle='--')\n",
    "cheee('')"
   ]
  },
  {
   "cell_type": "markdown",
   "id": "featured-baseball",
   "metadata": {},
   "source": [
    "##### share"
   ]
  },
  {
   "cell_type": "code",
   "execution_count": null,
   "id": "found-recipient",
   "metadata": {},
   "outputs": [],
   "source": [
    "abs_share = df.groupby(['place_id', 'month_past_covid', cnt_grp, ]).size().reset_index(name='share')\n",
    "del abs_share['place_id']"
   ]
  },
  {
   "cell_type": "code",
   "execution_count": null,
   "id": "arranged-banner",
   "metadata": {},
   "outputs": [],
   "source": [
    "tot_share = abs_share.groupby(['month_past_covid', cnt_grp, ]).sum().reset_index()\n",
    "tot_share['share'] = tot_share.apply(lambda row: (row['share'])/(tot_share.groupby(['month_past_covid', ]).sum()['share'][row['month_past_covid']]), axis=1)"
   ]
  },
  {
   "cell_type": "code",
   "execution_count": null,
   "id": "ideal-standing",
   "metadata": {},
   "outputs": [],
   "source": [
    "#'''\n",
    "tot_share = abs_share.groupby(['month_past_covid', cnt_grp, ]).sum().reset_index()\n",
    "tot_share['share'] = tot_share.apply(lambda row: (row['share'])/(int(tot_share[(tot_share['month_past_covid']==0) & (tot_share[cnt_grp]==row[cnt_grp])]['share'])), axis=1)\n",
    "tot_share = tot_share[tot_share['month_past_covid'] != -1 ]\n",
    "#'''"
   ]
  },
  {
   "cell_type": "code",
   "execution_count": null,
   "id": "competitive-spokesman",
   "metadata": {},
   "outputs": [],
   "source": [
    "sns.pointplot(data=tot_share, x='month_past_covid', y='share', \n",
    "              hue=cnt_grp, style=cnt_grp, dodge=True, capsize=.1, errwidth=1, palette='colorblind', ci=68) # standard-error instead ci\n",
    "plt.axvline(1, 0, 20, color='red', linewidth=1.2, linestyle='--')\n",
    "plt.axvline(9, 0, 20, color='red', linewidth=1.2, linestyle='--')\n",
    "cheee('commedesgar')"
   ]
  },
  {
   "cell_type": "markdown",
   "id": "recent-vanilla",
   "metadata": {},
   "source": [
    "##### gini"
   ]
  },
  {
   "cell_type": "code",
   "execution_count": null,
   "id": "orange-drama",
   "metadata": {},
   "outputs": [],
   "source": [
    "fn_list = [('ssi', ssi), ('nhhi', nhhi), ('bhhi', bhhi), ]\n",
    "gini = abs_share.groupby(['month_past_covid', cnt_grp, ]).agg(fn_list)\n",
    "gini.reset_index(inplace=True)\n",
    "gini.columns = gini.columns.map('_'.join).str.strip('_')"
   ]
  },
  {
   "cell_type": "code",
   "execution_count": null,
   "id": "regional-budget",
   "metadata": {},
   "outputs": [],
   "source": [
    "#gini = gini[gini['type'].isin(['meal_delivery','bar','restaurant',]) ] #type\n",
    "#gini = gini[gini['price_level'].isin([1.0, 3.0, ]) ] #price_level\n",
    "gini = gini[gini['month_past_covid'] != -1 ]"
   ]
  },
  {
   "cell_type": "code",
   "execution_count": null,
   "id": "special-african",
   "metadata": {},
   "outputs": [],
   "source": [
    "sns.lineplot(data=gini, x='month_past_covid', y='share_'+cnt_alg, hue=cnt_grp, style=cnt_grp, markers=True, dashes=False, palette='colorblind')\n",
    "plt.axvline(1, 0, 20, color='red', linewidth=1.2, linestyle='--')\n",
    "plt.axvline(9, 0, 20, color='red', linewidth=1.2, linestyle='--')\n",
    "cheee('share_bhhi_price_level')"
   ]
  },
  {
   "cell_type": "markdown",
   "id": "impaired-stadium",
   "metadata": {},
   "source": [
    "##### stats"
   ]
  },
  {
   "cell_type": "code",
   "execution_count": null,
   "id": "consecutive-wallpaper",
   "metadata": {},
   "outputs": [],
   "source": [
    "fig = plt.figure()#figsize=sq_leaf)\n",
    "ax = fig.gca()\n",
    "eps = 1\n",
    "y, x = np.histogram(a, np.arange(0, max(a)+2*eps, eps))\n",
    "ax.plot(x[:-1], y, marker='.',ms=3.0, linewidth=0.0, linestyle='-', color='purple')\n",
    "ax.set_xlim(1, 30)\n",
    "#ax.axes.get_yaxis().set_visible(False)\n",
    "#ax.axvline(x=numpy.mean(a), color='blue', linewidth=1.2)\n",
    "#ax.axvline(x=numpy.median(a), color='red', linewidth=1.2)\n",
    "#ax.text(16, 300000,'$\\mu$')\n",
    "#ax.text(6, 30000,'$0.5q$')"
   ]
  },
  {
   "cell_type": "code",
   "execution_count": null,
   "id": "correct-handling",
   "metadata": {},
   "outputs": [],
   "source": [
    "Counter(df['user_popularity'])"
   ]
  }
 ],
 "metadata": {
  "kernelspec": {
   "display_name": "Python 3",
   "language": "python",
   "name": "python3"
  },
  "language_info": {
   "codemirror_mode": {
    "name": "ipython",
    "version": 3
   },
   "file_extension": ".py",
   "mimetype": "text/x-python",
   "name": "python",
   "nbconvert_exporter": "python",
   "pygments_lexer": "ipython3",
   "version": "3.8.8"
  }
 },
 "nbformat": 4,
 "nbformat_minor": 5
}
