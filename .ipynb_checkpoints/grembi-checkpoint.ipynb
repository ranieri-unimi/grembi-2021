{
 "cells": [
  {
   "cell_type": "markdown",
   "id": "moving-dominant",
   "metadata": {},
   "source": [
    "### le rose sono rosse / le viole sono blu / prendetemi per pazzo, sì / pazzo per Gesù"
   ]
  },
  {
   "cell_type": "code",
   "execution_count": null,
   "id": "improving-stations",
   "metadata": {},
   "outputs": [],
   "source": [
    "import grembi as fnz\n",
    "import pickle\n",
    "from collections import Counter\n",
    "from matplotlib import pyplot as plt\n",
    "import numpy as np\n",
    "import csv"
   ]
  },
  {
   "cell_type": "code",
   "execution_count": null,
   "id": "alone-magazine",
   "metadata": {},
   "outputs": [],
   "source": [
    "NE = 'north_east'\n",
    "SW = 'south_west'\n",
    "view = {\n",
    "'chinatown': {SW:(45.478530132389416,9.167947775395564),NE:(45.486329944279085,9.181335323890014),},\n",
    "#'legit_milan': {SW:(45.43654061758556,9.1255932966908),NE:(45.52335073625751,9.25182332813564),},\n",
    "'vittoria_dateo': {SW:(45.46218301808607, 9.206638223420574),NE:(45.468007095952004, 9.217281117503491),},\n",
    "'navigli_romana': {SW:(45.44416732498216, 9.158639723868536),NE:(45.452934043919186, 9.207787100677395),},\n",
    "}"
   ]
  },
  {
   "cell_type": "code",
   "execution_count": null,
   "id": "floppy-argentina",
   "metadata": {},
   "outputs": [],
   "source": [
    "n_reviews = 400\n",
    "meters = 150\n",
    "port = 'navigli_romana'\n",
    "\n",
    "# calls payout\n",
    "len(fnz.cute_types)*len(fnz.get_radars(meters, **view[port]))"
   ]
  },
  {
   "cell_type": "markdown",
   "id": "parallel-impossible",
   "metadata": {},
   "source": [
    "##### API places"
   ]
  },
  {
   "cell_type": "code",
   "execution_count": null,
   "id": "hourly-plant",
   "metadata": {},
   "outputs": [],
   "source": [
    "#pickle.dump(fnz.sample_viewport(meters, view[port]), open('cetriolini/'+port+\"_places_db.pkl\", \"wb\"))"
   ]
  },
  {
   "cell_type": "code",
   "execution_count": null,
   "id": "spoken-serbia",
   "metadata": {},
   "outputs": [],
   "source": [
    "places_db = pickle.load(open('cetriolini/'+port+\"_places_db.pkl\", \"rb\")) # list of dict-place"
   ]
  },
  {
   "cell_type": "markdown",
   "id": "eight-newspaper",
   "metadata": {},
   "source": [
    "##### purify dataset"
   ]
  },
  {
   "cell_type": "code",
   "execution_count": null,
   "id": "moving-dragon",
   "metadata": {},
   "outputs": [],
   "source": [
    "#pickle.dump(fnz.purify_data(places_db), open('cetriolini/'+port+\"_data_low.pkl\", \"wb\"))"
   ]
  },
  {
   "cell_type": "code",
   "execution_count": null,
   "id": "dimensional-decade",
   "metadata": {},
   "outputs": [],
   "source": [
    "data_low = pickle.load(open('cetriolini/'+port+\"_data_low.pkl\", \"rb\"))"
   ]
  },
  {
   "cell_type": "markdown",
   "id": "wrapped-traveler",
   "metadata": {},
   "source": [
    "##### scraping reviews"
   ]
  },
  {
   "cell_type": "code",
   "execution_count": null,
   "id": "manufactured-certificate",
   "metadata": {},
   "outputs": [],
   "source": [
    "#pickle.dump(fnz.scrape_reviews([i['place_id'] for i in data_low], n_reviews), open('cetriolini/'+port+\"_reviews_db.pkl\", \"wb\"))"
   ]
  },
  {
   "cell_type": "code",
   "execution_count": null,
   "id": "encouraging-opportunity",
   "metadata": {},
   "outputs": [],
   "source": [
    "reviews_db = pickle.load(open('cetriolini/'+port+\"_reviews_db.pkl\", \"rb\"))  # dict of list of htmls <- to BeautifulSoup(htmls)"
   ]
  },
  {
   "cell_type": "markdown",
   "id": "strategic-colombia",
   "metadata": {},
   "source": [
    "##### upgrade data"
   ]
  },
  {
   "cell_type": "code",
   "execution_count": null,
   "id": "naked-kitchen",
   "metadata": {},
   "outputs": [],
   "source": [
    "#pickle.dump(fnz.enrich_data(data_low, reviews_db), open('cetriolini/'+port+\"_data_high.pkl\", \"wb\"))"
   ]
  },
  {
   "cell_type": "code",
   "execution_count": null,
   "id": "supposed-charles",
   "metadata": {},
   "outputs": [],
   "source": [
    "data_high = pickle.load(open('cetriolini/'+port+\"_data_high.pkl\", \"rb\"))  # beautiful json"
   ]
  },
  {
   "cell_type": "markdown",
   "id": "athletic-county",
   "metadata": {},
   "source": [
    "##### merging"
   ]
  },
  {
   "cell_type": "code",
   "execution_count": null,
   "id": "frozen-lottery",
   "metadata": {},
   "outputs": [],
   "source": [
    "data = []\n",
    "for i in view:\n",
    "    data += pickle.load(open('cetriolini/'+i+\"_data_high.pkl\", \"rb\"))"
   ]
  },
  {
   "cell_type": "code",
   "execution_count": null,
   "id": "north-haiti",
   "metadata": {},
   "outputs": [],
   "source": [
    "data = [i for i in data if i['user_ratings_total'] > 5 ] # 6 or more"
   ]
  },
  {
   "cell_type": "code",
   "execution_count": null,
   "id": "offshore-anime",
   "metadata": {},
   "outputs": [],
   "source": [
    "data = [i for i in data if i['price_level']] # assigned price"
   ]
  },
  {
   "cell_type": "code",
   "execution_count": null,
   "id": "quarterly-ensemble",
   "metadata": {},
   "outputs": [],
   "source": [
    "data = [i for i in data if [j for j in i['rewiews'] if j['days_ago'] < 365]]"
   ]
  },
  {
   "cell_type": "code",
   "execution_count": null,
   "id": "medieval-virtue",
   "metadata": {},
   "outputs": [],
   "source": [
    "reg = []\n",
    "x_head = ['price_level','rating','user_ratings_total',]\n",
    "y_head = ['is_elite','rank','stars','days_ago',]\n",
    "for p in data:\n",
    "    x = {i: p[i] for i in x_head}\n",
    "    for r in p['rewiews']:\n",
    "        y = {i: r[i] for i in y_head}\n",
    "        reg.append({**x, **y})"
   ]
  },
  {
   "cell_type": "code",
   "execution_count": null,
   "id": "laden-particle",
   "metadata": {},
   "outputs": [],
   "source": [
    "f = open(\"data.csv\", \"w\")\n",
    "writer = csv.DictWriter(f, fieldnames= x_head + y_head)\n",
    "writer.writeheader()\n",
    "writer.writerows(reg)\n",
    "f.close()"
   ]
  },
  {
   "cell_type": "markdown",
   "id": "interested-input",
   "metadata": {},
   "source": [
    "##### stats"
   ]
  },
  {
   "cell_type": "code",
   "execution_count": null,
   "id": "absolute-strip",
   "metadata": {},
   "outputs": [],
   "source": [
    "len(reg)"
   ]
  },
  {
   "cell_type": "code",
   "execution_count": null,
   "id": "prompt-peace",
   "metadata": {},
   "outputs": [],
   "source": [
    "a = [i['user_ratings_total'] for i in data if i]"
   ]
  },
  {
   "cell_type": "code",
   "execution_count": null,
   "id": "cardiac-institution",
   "metadata": {},
   "outputs": [],
   "source": [
    "fig = plt.figure()#figsize=sq_leaf)\n",
    "ax = fig.gca()\n",
    "eps = 1\n",
    "y, x = np.histogram(a, np.arange(0, max(a)+2*eps, eps))\n",
    "ax.plot(x[:-1], y, marker='.',ms=3.0, linewidth=0.0, linestyle='-', color='purple')\n",
    "ax.set_xlim(1, 30)\n",
    "#ax.axes.get_yaxis().set_visible(False)\n",
    "#ax.axvline(x=numpy.mean(a), color='blue', linewidth=1.2)\n",
    "#ax.axvline(x=numpy.median(a), color='red', linewidth=1.2)\n",
    "#ax.text(16, 300000,'$\\mu$')\n",
    "#ax.text(6, 30000,'$0.5q$')"
   ]
  },
  {
   "cell_type": "code",
   "execution_count": null,
   "id": "improved-michigan",
   "metadata": {},
   "outputs": [],
   "source": [
    "plt.boxplot(np.log10(a))"
   ]
  }
 ],
 "metadata": {
  "kernelspec": {
   "display_name": "Python 3",
   "language": "python",
   "name": "python3"
  },
  "language_info": {
   "codemirror_mode": {
    "name": "ipython",
    "version": 3
   },
   "file_extension": ".py",
   "mimetype": "text/x-python",
   "name": "python",
   "nbconvert_exporter": "python",
   "pygments_lexer": "ipython3",
   "version": "3.8.8"
  }
 },
 "nbformat": 4,
 "nbformat_minor": 5
}
