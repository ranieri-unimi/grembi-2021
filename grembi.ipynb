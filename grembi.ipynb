{
 "cells": [
  {
   "cell_type": "markdown",
   "id": "olympic-attachment",
   "metadata": {},
   "source": [
    "### le rose sono rosse / le viole sono blu / prendetemi per pazzo, sì / pazzo per Gesù"
   ]
  },
  {
   "cell_type": "code",
   "execution_count": null,
   "id": "standing-potter",
   "metadata": {},
   "outputs": [],
   "source": [
    "import funzfunz as fnz\n",
    "import pickle\n",
    "from bs4 import BeautifulSoup"
   ]
  },
  {
   "cell_type": "code",
   "execution_count": null,
   "id": "banner-composition",
   "metadata": {},
   "outputs": [],
   "source": [
    "NE = 'north_east'\n",
    "SW = 'south_west'\n",
    "views = {\n",
    "'chinatown': {SW:(45.478530132389416,9.167947775395564),NE:(45.486329944279085,9.181335323890014),},\n",
    "'legit_milan': {SW:(45.43654061758556,9.1255932966908),NE:(45.52335073625751,9.25182332813564),},\n",
    "'feasible_milan': {SW:(45.43654061758556,9.1255932966908),NE:(45.52335073625751,9.25182332813564),},\n",
    "}"
   ]
  },
  {
   "cell_type": "code",
   "execution_count": null,
   "id": "third-sailing",
   "metadata": {},
   "outputs": [],
   "source": [
    "n_reviews = 800\n",
    "meters = 140\n",
    "port = 'chinatown'\n",
    "\n",
    "# calls payout\n",
    "len(fnz.cute_types)*len(fnz.get_radars(meters, **view[port]))"
   ]
  },
  {
   "cell_type": "markdown",
   "id": "three-gamma",
   "metadata": {},
   "source": [
    "##### API places"
   ]
  },
  {
   "cell_type": "code",
   "execution_count": null,
   "id": "compatible-drove",
   "metadata": {},
   "outputs": [],
   "source": [
    "# pickle.dump(fnz.sample_viewport(meters, view[port]), open(port+\"_places_db.pkl\", \"wb\")"
   ]
  },
  {
   "cell_type": "code",
   "execution_count": null,
   "id": "average-prefix",
   "metadata": {},
   "outputs": [],
   "source": [
    "places_db = pickle.load(open(port+\"_places_db.pkl\", \"rb\")) # list of dict-place"
   ]
  },
  {
   "cell_type": "markdown",
   "id": "developing-attack",
   "metadata": {},
   "source": [
    "##### purify dataset"
   ]
  },
  {
   "cell_type": "code",
   "execution_count": null,
   "id": "expressed-algeria",
   "metadata": {},
   "outputs": [],
   "source": [
    "#pickle.dump(purify_data(places_db), open(port+\"_data_low.pkl\", \"wb\"))"
   ]
  },
  {
   "cell_type": "code",
   "execution_count": null,
   "id": "interim-thanks",
   "metadata": {},
   "outputs": [],
   "source": [
    "data_low = pickle.load(open(port+\"_data_low.pkl\", \"rb\"))"
   ]
  },
  {
   "cell_type": "markdown",
   "id": "elect-affairs",
   "metadata": {},
   "source": [
    "##### scraping reviews"
   ]
  },
  {
   "cell_type": "code",
   "execution_count": null,
   "id": "circular-attribute",
   "metadata": {},
   "outputs": [],
   "source": [
    "# pickle.dump(fnz.scrape_reviews([i['place_id'] for i in data], n_reviews), open(port+\"_reviews_db.pkl\", \"wb\"))"
   ]
  },
  {
   "cell_type": "code",
   "execution_count": null,
   "id": "widespread-mississippi",
   "metadata": {},
   "outputs": [],
   "source": [
    "reviews_db = pickle.load(open(port+\"_reviews_db.pkl\", \"rb\"))  # dict of list of htmls <- to BeautifulSoup(htmls)"
   ]
  },
  {
   "cell_type": "markdown",
   "id": "gentle-scientist",
   "metadata": {},
   "source": [
    "##### upgrade data"
   ]
  },
  {
   "cell_type": "code",
   "execution_count": null,
   "id": "initial-appeal",
   "metadata": {},
   "outputs": [],
   "source": [
    "#pickle.dump(fnz.enrich_data(data_low, reviews_db), open(port+\"_data_high.pkl\", \"wb\"))"
   ]
  },
  {
   "cell_type": "code",
   "execution_count": null,
   "id": "incoming-treasury",
   "metadata": {},
   "outputs": [],
   "source": [
    "data_high = pickle.load(open(\"data.pkl\", \"rb\"))  # beautiful json"
   ]
  },
  {
   "cell_type": "code",
   "execution_count": null,
   "id": "latin-mineral",
   "metadata": {},
   "outputs": [],
   "source": []
  },
  {
   "cell_type": "code",
   "execution_count": null,
   "id": "standing-default",
   "metadata": {},
   "outputs": [],
   "source": [
    "from collections import Counter\n",
    "prz = []\n",
    "for i in places_db:\n",
    "    if 'price_level' in i:\n",
    "        prz.append(i['price_level'])\n",
    "print(len(prz))\n",
    "print(Counter(prz))"
   ]
  }
 ],
 "metadata": {
  "kernelspec": {
   "display_name": "Python 3",
   "language": "python",
   "name": "python3"
  },
  "language_info": {
   "codemirror_mode": {
    "name": "ipython",
    "version": 3
   },
   "file_extension": ".py",
   "mimetype": "text/x-python",
   "name": "python",
   "nbconvert_exporter": "python",
   "pygments_lexer": "ipython3",
   "version": "3.8.8"
  }
 },
 "nbformat": 4,
 "nbformat_minor": 5
}
