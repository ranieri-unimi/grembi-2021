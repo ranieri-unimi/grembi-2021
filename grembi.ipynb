{
 "cells": [
  {
   "cell_type": "markdown",
   "id": "pregnant-benjamin",
   "metadata": {},
   "source": [
    "### le rose sono rosse / le viole sono blu / prendetemi per pazzo, sì / pazzo per Gesù"
   ]
  },
  {
   "cell_type": "code",
   "execution_count": null,
   "id": "bizarre-occasion",
   "metadata": {},
   "outputs": [],
   "source": [
    "import grembi as fnz\n",
    "import pickle\n",
    "from collections import Counter\n",
    "from matplotlib import pyplot as plt\n",
    "import numpy as np\n",
    "import csv"
   ]
  },
  {
   "cell_type": "code",
   "execution_count": null,
   "id": "judicial-science",
   "metadata": {},
   "outputs": [],
   "source": [
    "NE = 'north_east'\n",
    "SW = 'south_west'\n",
    "view = {\n",
    "'chinatown': {SW:(45.478530132389416,9.167947775395564),NE:(45.486329944279085,9.181335323890014),},\n",
    "#'legit_milan': {SW:(45.43654061758556,9.1255932966908),NE:(45.52335073625751,9.25182332813564),},\n",
    "'vittoria_dateo': {SW:(45.46218301808607, 9.206638223420574),NE:(45.468007095952004, 9.217281117503491),},\n",
    "'navigli_romana': {SW:(45.44416732498216, 9.158639723868536),NE:(45.452934043919186, 9.207787100677395),},\n",
    "}"
   ]
  },
  {
   "cell_type": "code",
   "execution_count": null,
   "id": "varying-automation",
   "metadata": {},
   "outputs": [],
   "source": [
    "n_reviews = 400\n",
    "meters = 150"
   ]
  },
  {
   "cell_type": "code",
   "execution_count": null,
   "id": "alternative-shore",
   "metadata": {},
   "outputs": [],
   "source": [
    "for port in view:    \n",
    "    print(port,'api calls:', len(fnz.cute_types)*len(fnz.get_radars(meters, **view[port])))\n",
    "\n",
    "    ##### API places\n",
    "\n",
    "    #pickle.dump(fnz.sample_viewport(meters, view[port]), open('cetriolini/'+port+\"_places_db.pkl\", \"wb\"))\n",
    "\n",
    "    places_db = pickle.load(open('cetriolini/'+port+\"_places_db.pkl\", \"rb\")) # list of dict-place\n",
    "\n",
    "    ##### purify dataset\n",
    "\n",
    "    pickle.dump(fnz.purify_data(places_db), open('cetriolini/'+port+\"_data_low.pkl\", \"wb\"))\n",
    "\n",
    "    data_low = pickle.load(open('cetriolini/'+port+\"_data_low.pkl\", \"rb\"))\n",
    "\n",
    "    ##### scraping reviews\n",
    "\n",
    "    #pickle.dump(fnz.scrape_reviews([i['place_id'] for i in data_low], n_reviews), open('cetriolini/'+port+\"_reviews_db.pkl\", \"wb\"))\n",
    "\n",
    "    reviews_db = pickle.load(open('cetriolini/'+port+\"_reviews_db.pkl\", \"rb\"))  # dict of list of htmls <- to BeautifulSoup(htmls)\n",
    "\n",
    "    ##### upgrade data\n",
    "\n",
    "    pickle.dump(fnz.enrich_data(data_low, reviews_db), open('cetriolini/'+port+\"_data_high.pkl\", \"wb\"))\n",
    "\n",
    "    data_high = pickle.load(open('cetriolini/'+port+\"_data_high.pkl\", \"rb\"))  # beautiful json"
   ]
  },
  {
   "cell_type": "markdown",
   "id": "fossil-special",
   "metadata": {},
   "source": [
    "##### merging"
   ]
  },
  {
   "cell_type": "code",
   "execution_count": null,
   "id": "formal-anthony",
   "metadata": {},
   "outputs": [],
   "source": [
    "data = []\n",
    "for i in view:\n",
    "    data += pickle.load(open('cetriolini/'+i+\"_data_high.pkl\", \"rb\"))"
   ]
  },
  {
   "cell_type": "code",
   "execution_count": null,
   "id": "unnecessary-slope",
   "metadata": {},
   "outputs": [],
   "source": [
    "data = [i for i in data if i['user_ratings_total'] > 5 ] # 6 or more"
   ]
  },
  {
   "cell_type": "code",
   "execution_count": null,
   "id": "coral-explosion",
   "metadata": {},
   "outputs": [],
   "source": [
    "data = [i for i in data if i['price_level']] # assigned price"
   ]
  },
  {
   "cell_type": "code",
   "execution_count": null,
   "id": "prompt-charlotte",
   "metadata": {},
   "outputs": [],
   "source": [
    "data = [i for i in data if [j for j in i['reviews'] if j['days_ago'] < 365]] # closed instantly"
   ]
  },
  {
   "cell_type": "code",
   "execution_count": null,
   "id": "junior-rebate",
   "metadata": {},
   "outputs": [],
   "source": [
    "# is covid\n",
    "for p in data:\n",
    "    for r in p['reviews']:\n",
    "        if r['days_ago'] < 365:\n",
    "            r['is_covid'] = 1\n",
    "        else:\n",
    "            r['is_covid'] = 0"
   ]
  },
  {
   "cell_type": "code",
   "execution_count": null,
   "id": "chief-american",
   "metadata": {},
   "outputs": [],
   "source": [
    "reg = []\n",
    "x_head = ['price_level', 'user_ratings_total', 'rating', ]\n",
    "y_head = ['is_elite','rank','stars','days_ago', ]\n",
    "for p in data:\n",
    "    x = {i: p[i] for i in x_head}\n",
    "    for r in p['reviews']:\n",
    "        y = {i: r[i] for i in y_head}\n",
    "        reg.append({**x, **y})"
   ]
  },
  {
   "cell_type": "code",
   "execution_count": null,
   "id": "stretch-wonder",
   "metadata": {},
   "outputs": [],
   "source": [
    "f = open(\"data.csv\", \"w\")\n",
    "writer = csv.DictWriter(f, fieldnames= x_head + y_head)\n",
    "writer.writeheader()\n",
    "writer.writerows(reg)\n",
    "f.close()"
   ]
  },
  {
   "cell_type": "markdown",
   "id": "ethical-prisoner",
   "metadata": {},
   "source": [
    "##### stats"
   ]
  },
  {
   "cell_type": "code",
   "execution_count": null,
   "id": "experienced-vehicle",
   "metadata": {},
   "outputs": [],
   "source": [
    "len(reg)"
   ]
  },
  {
   "cell_type": "code",
   "execution_count": null,
   "id": "short-andrew",
   "metadata": {},
   "outputs": [],
   "source": [
    "a = [i['user_ratings_total'] for i in data if i]"
   ]
  },
  {
   "cell_type": "code",
   "execution_count": null,
   "id": "dynamic-complaint",
   "metadata": {},
   "outputs": [],
   "source": [
    "fig = plt.figure()#figsize=sq_leaf)\n",
    "ax = fig.gca()\n",
    "eps = 1\n",
    "y, x = np.histogram(a, np.arange(0, max(a)+2*eps, eps))\n",
    "ax.plot(x[:-1], y, marker='.',ms=3.0, linewidth=0.0, linestyle='-', color='purple')\n",
    "ax.set_xlim(1, 30)\n",
    "#ax.axes.get_yaxis().set_visible(False)\n",
    "#ax.axvline(x=numpy.mean(a), color='blue', linewidth=1.2)\n",
    "#ax.axvline(x=numpy.median(a), color='red', linewidth=1.2)\n",
    "#ax.text(16, 300000,'$\\mu$')\n",
    "#ax.text(6, 30000,'$0.5q$')"
   ]
  },
  {
   "cell_type": "code",
   "execution_count": null,
   "id": "solar-block",
   "metadata": {},
   "outputs": [],
   "source": [
    "plt.boxplot(np.log10(a))"
   ]
  }
 ],
 "metadata": {
  "kernelspec": {
   "display_name": "Python 3",
   "language": "python",
   "name": "python3"
  },
  "language_info": {
   "codemirror_mode": {
    "name": "ipython",
    "version": 3
   },
   "file_extension": ".py",
   "mimetype": "text/x-python",
   "name": "python",
   "nbconvert_exporter": "python",
   "pygments_lexer": "ipython3",
   "version": "3.8.8"
  }
 },
 "nbformat": 4,
 "nbformat_minor": 5
}
