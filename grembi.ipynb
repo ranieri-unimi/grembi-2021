{
 "cells": [
  {
   "cell_type": "markdown",
   "id": "seven-illustration",
   "metadata": {},
   "source": [
    "### le rose sono rosse / le viole sono blu / prendetemi per pazzo, sì / pazzo per Gesù"
   ]
  },
  {
   "cell_type": "code",
   "execution_count": 1,
   "id": "whole-liability",
   "metadata": {},
   "outputs": [],
   "source": [
    "import grembi as fnz\n",
    "import pickle"
   ]
  },
  {
   "cell_type": "code",
   "execution_count": 2,
   "id": "responsible-accident",
   "metadata": {},
   "outputs": [],
   "source": [
    "NE = 'north_east'\n",
    "SW = 'south_west'\n",
    "view = {\n",
    "'chinatown': {SW:(45.478530132389416,9.167947775395564),NE:(45.486329944279085,9.181335323890014),},\n",
    "'legit_milan': {SW:(45.43654061758556,9.1255932966908),NE:(45.52335073625751,9.25182332813564),},\n",
    "'vittoria_dateo': {SW:(45.46218301808607, 9.206638223420574),NE:(45.468007095952004, 9.217281117503491),},\n",
    "'vittoria_venezia': {SW:(45.46218301808607, 9.206638223420574),NE:(45.47449273398143, 9.217184634584571),},\n",
    "}"
   ]
  },
  {
   "cell_type": "code",
   "execution_count": 3,
   "id": "adapted-milan",
   "metadata": {},
   "outputs": [
    {
     "data": {
      "text/plain": [
       "90"
      ]
     },
     "execution_count": 3,
     "metadata": {},
     "output_type": "execute_result"
    }
   ],
   "source": [
    "n_reviews = 45\n",
    "meters = 125\n",
    "port = 'chinatown'\n",
    "\n",
    "# calls payout\n",
    "len(fnz.cute_types)*len(fnz.get_radars(meters, **view[port]))"
   ]
  },
  {
   "cell_type": "markdown",
   "id": "blind-brighton",
   "metadata": {},
   "source": [
    "##### API places"
   ]
  },
  {
   "cell_type": "code",
   "execution_count": 4,
   "id": "guided-barbados",
   "metadata": {},
   "outputs": [],
   "source": [
    "#pickle.dump(fnz.sample_viewport(meters, view[port]), open('cetriolini/'+port+\"_places_db.pkl\", \"wb\"))"
   ]
  },
  {
   "cell_type": "code",
   "execution_count": 5,
   "id": "smoking-culture",
   "metadata": {},
   "outputs": [],
   "source": [
    "places_db = pickle.load(open('cetriolini/'+port+\"_places_db.pkl\", \"rb\")) # list of dict-place"
   ]
  },
  {
   "cell_type": "markdown",
   "id": "martial-performer",
   "metadata": {},
   "source": [
    "##### purify dataset"
   ]
  },
  {
   "cell_type": "code",
   "execution_count": 6,
   "id": "alien-strategy",
   "metadata": {},
   "outputs": [],
   "source": [
    "#pickle.dump(fnz.purify_data(places_db), open('cetriolini/'+port+\"_data_low.pkl\", \"wb\"))"
   ]
  },
  {
   "cell_type": "code",
   "execution_count": 7,
   "id": "exempt-writer",
   "metadata": {},
   "outputs": [],
   "source": [
    "data_low = pickle.load(open('cetriolini/'+port+\"_data_low.pkl\", \"rb\"))"
   ]
  },
  {
   "cell_type": "markdown",
   "id": "sorted-german",
   "metadata": {},
   "source": [
    "##### scraping reviews"
   ]
  },
  {
   "cell_type": "code",
   "execution_count": 8,
   "id": "miniature-vegetarian",
   "metadata": {},
   "outputs": [],
   "source": [
    "fnz.BHD = 1"
   ]
  },
  {
   "cell_type": "code",
   "execution_count": null,
   "id": "weird-longer",
   "metadata": {},
   "outputs": [
    {
     "name": "stdout",
     "output_type": "stream",
     "text": [
      "raised exception ignored on ChIJCcH4VT7BhkcR-mooDqNa2a0\n",
      "raised exception ignored on ChIJBTasMz7BhkcRDmqooZSM8jk\n",
      "raised exception ignored on ChIJF3xC9OTBhkcRkiWSji77Syo\n",
      "raised exception ignored on ChIJZauUXzfBhkcRhSSYDL9s4sQ\n",
      "raised exception ignored on ChIJPTRcC7SBLRMRtG65Dthb_DQ\n",
      "raised exception ignored on ChIJx_ZFJTHBhkcRf56BuaHhDHs\n",
      "raised exception ignored on ChIJkaWZkEDBhkcRVzfDpBDB1f0\n",
      "raised exception ignored on ChIJRbkScjbBhkcRjXvsdjPKy8s\n",
      "raised exception ignored on ChIJ89nM1GXBhkcRa-6mZ8PI9Ek\n",
      "raised exception ignored on ChIJr6uGIifBhkcRrho_1_0svUo\n",
      "raised exception ignored on ChIJifM_toLBhkcRpNFQXtCm7Iw\n",
      "raised exception ignored on ChIJRyCiQjfBhkcRScawXV29kIg\n",
      "raised exception ignored on ChIJ42s1adzBhkcRJEM1CorsAiU\n",
      "raised exception ignored on ChIJKwJb25PBhkcR32l_yfvZsSg\n",
      "raised exception ignored on ChIJ90TpWCnBhkcRlJ2qK_am-Ac\n",
      "raised exception ignored on ChIJT1V6vDnBhkcR4WYVn9RmaKM\n",
      "raised exception ignored on ChIJu3dVHxbBhkcRZFBDY0cmTc8\n",
      "raised exception ignored on ChIJMUH2HRTBhkcRJPIQcpJFUbM\n",
      "raised exception ignored on ChIJa2wvLOfBhkcRddVZehEE8n0\n",
      "raised exception ignored on ChIJrbItxznBhkcR4KdVmgSZlYQ\n"
     ]
    }
   ],
   "source": [
    "pickle.dump(fnz.scrape_reviews([i['place_id'] for i in data_low], n_reviews), open('cetriolini/'+port+\"_reviews_db.pkl\", \"wb\"))"
   ]
  },
  {
   "cell_type": "code",
   "execution_count": null,
   "id": "adapted-australia",
   "metadata": {},
   "outputs": [],
   "source": [
    "reviews_db = pickle.load(open('cetriolini/'+port+\"_reviews_db.pkl\", \"rb\"))  # dict of list of htmls <- to BeautifulSoup(htmls)"
   ]
  },
  {
   "cell_type": "markdown",
   "id": "acquired-silicon",
   "metadata": {},
   "source": [
    "##### upgrade data"
   ]
  },
  {
   "cell_type": "code",
   "execution_count": null,
   "id": "religious-second",
   "metadata": {},
   "outputs": [],
   "source": [
    "pickle.dump(fnz.enrich_data(data_low, reviews_db), open('cetriolini/'+port+\"_data_high.pkl\", \"wb\"))"
   ]
  },
  {
   "cell_type": "code",
   "execution_count": null,
   "id": "changing-crash",
   "metadata": {},
   "outputs": [],
   "source": [
    "data_high = pickle.load(open('cetriolini/'+port+\"_data_high.pkl\", \"rb\"))  # beautiful json"
   ]
  },
  {
   "cell_type": "code",
   "execution_count": null,
   "id": "changed-convenience",
   "metadata": {},
   "outputs": [],
   "source": [
    "0/0"
   ]
  },
  {
   "cell_type": "code",
   "execution_count": null,
   "id": "international-horror",
   "metadata": {},
   "outputs": [],
   "source": [
    "from collections import Counter\n",
    "prz = []\n",
    "for i in places_db:\n",
    "    if 'price_level' in i:\n",
    "        prz.append(i['price_level'])\n",
    "print(len(prz))\n",
    "print(Counter(prz))"
   ]
  },
  {
   "cell_type": "code",
   "execution_count": null,
   "id": "little-protocol",
   "metadata": {},
   "outputs": [],
   "source": [
    "data_low"
   ]
  },
  {
   "cell_type": "code",
   "execution_count": null,
   "id": "objective-street",
   "metadata": {},
   "outputs": [],
   "source": []
  }
 ],
 "metadata": {
  "kernelspec": {
   "display_name": "Python 3",
   "language": "python",
   "name": "python3"
  },
  "language_info": {
   "codemirror_mode": {
    "name": "ipython",
    "version": 3
   },
   "file_extension": ".py",
   "mimetype": "text/x-python",
   "name": "python",
   "nbconvert_exporter": "python",
   "pygments_lexer": "ipython3",
   "version": "3.8.8"
  }
 },
 "nbformat": 4,
 "nbformat_minor": 5
}
