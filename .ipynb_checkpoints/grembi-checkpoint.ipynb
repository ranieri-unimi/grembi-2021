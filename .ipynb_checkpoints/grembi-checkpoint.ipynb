{
 "cells": [
  {
   "cell_type": "markdown",
   "metadata": {},
   "source": [
    "### le rose sono rosse / le viole sono blu / prendetemi per pazzo, sì / pazzo per Gesù"
   ]
  },
  {
   "cell_type": "code",
   "execution_count": null,
   "metadata": {},
   "outputs": [],
   "source": [
    "import grembi as fnz\n",
    "import pickle\n",
    "from collections import Counter\n",
    "from matplotlib import pyplot as plt\n",
    "import numpy as np\n",
    "import csv\n",
    "import pandas as pd\n",
    "import math"
   ]
  },
  {
   "cell_type": "code",
   "execution_count": null,
   "metadata": {},
   "outputs": [],
   "source": [
    "import seaborn as sns\n",
    "sns.set_style(\"whitegrid\")\n",
    "sns.set(rc={'figure.figsize':(6,4)})"
   ]
  },
  {
   "cell_type": "code",
   "execution_count": null,
   "metadata": {},
   "outputs": [],
   "source": [
    "def cheee(name):\n",
    "    plt.savefig('disegnini/'+name+'.png', dpi=300, format='png', transparent=False, pad_inches=0.10)"
   ]
  },
  {
   "cell_type": "code",
   "execution_count": null,
   "metadata": {},
   "outputs": [],
   "source": [
    "NE = 'north_east'\n",
    "SW = 'south_west'\n",
    "view = {\n",
    "'chinatown': {SW:(45.478530132389416,9.167947775395564),NE:(45.486329944279085,9.181335323890014),},\n",
    "#'legit_milan': {SW:(45.43654061758556,9.1255932966908),NE:(45.52335073625751,9.25182332813564),},\n",
    "'vittoria_dateo': {SW:(45.46218301808607, 9.206638223420574),NE:(45.468007095952004, 9.217281117503491),},\n",
    "'navigli_romana': {SW:(45.44416732498216, 9.158639723868536),NE:(45.452934043919186, 9.207787100677395),},\n",
    "}"
   ]
  },
  {
   "cell_type": "markdown",
   "metadata": {},
   "source": [
    "##### gathering"
   ]
  },
  {
   "cell_type": "code",
   "execution_count": null,
   "metadata": {},
   "outputs": [],
   "source": [
    "n_reviews = 400\n",
    "meters = 150\n",
    "recompute = (0,0,0,0)"
   ]
  },
  {
   "cell_type": "code",
   "execution_count": null,
   "metadata": {},
   "outputs": [],
   "source": [
    "for port in view:    \n",
    "    print(port,'api calls:', len(fnz.cute_types)*len(fnz.get_radars(meters, **view[port])))\n",
    "\n",
    "    pickle.dump(fnz.sample_viewport(meters, view[port]), open('cetriolini/'+port+\"_places_db.pkl\", \"wb\")) if recompute[0] else None\n",
    "    places_db = pickle.load(open('cetriolini/'+port+\"_places_db.pkl\", \"rb\")) # list of dict-place\n",
    "\n",
    "    pickle.dump(fnz.purify_data(places_db), open('cetriolini/'+port+\"_data_low.pkl\", \"wb\")) if recompute[1] else None\n",
    "    data_low = pickle.load(open('cetriolini/'+port+\"_data_low.pkl\", \"rb\"))\n",
    "\n",
    "    pickle.dump(fnz.scrape_reviews([i['place_id'] for i in data_low], n_reviews), open('cetriolini/'+port+\"_reviews_db.pkl\", \"wb\")) if recompute[2] else None\n",
    "    reviews_db = pickle.load(open('cetriolini/'+port+\"_reviews_db.pkl\", \"rb\"))  # dict of list of htmls <- to BeautifulSoup(htmls)\n",
    "\n",
    "    pickle.dump(fnz.enrich_data(data_low, reviews_db), open('cetriolini/'+port+\"_data_high.pkl\", \"wb\")) if recompute[3] else None\n",
    "    data_high = pickle.load(open('cetriolini/'+port+\"_data_high.pkl\", \"rb\"))  # beautiful json"
   ]
  },
  {
   "cell_type": "markdown",
   "metadata": {},
   "source": [
    "##### malchiodi docet"
   ]
  },
  {
   "cell_type": "code",
   "execution_count": null,
   "metadata": {},
   "outputs": [],
   "source": [
    "data = []\n",
    "for i in view:\n",
    "    data += pickle.load(open('cetriolini/'+i+\"_data_high.pkl\", \"rb\"))"
   ]
  },
  {
   "cell_type": "code",
   "execution_count": null,
   "metadata": {},
   "outputs": [],
   "source": [
    "# original dataframe\n",
    "df = pd.DataFrame([{**{i: p[i] for i in p if i!='reviews'}, **r} for p in data for r in p['reviews']])"
   ]
  },
  {
   "cell_type": "code",
   "execution_count": null,
   "metadata": {},
   "outputs": [],
   "source": [
    "# splatting types: NEVER NEVER NEVER on global analysis\n",
    "tmp = []\n",
    "for p in data:\n",
    "    for r in p['reviews']:\n",
    "        for t in fnz.cute_types:\n",
    "            if p[t]:\n",
    "                x = {i: p[i] for i in p if i not in fnz.cute_types+['reviews', ]}\n",
    "                x['type'] = t\n",
    "                tmp.append({**x, **r})\n",
    "df = pd.DataFrame(tmp)"
   ]
  },
  {
   "cell_type": "code",
   "execution_count": null,
   "metadata": {},
   "outputs": [],
   "source": [
    "df['month_past_covid'] = df.apply(lambda row: 11-row['days_ago']//30, axis=1)"
   ]
  },
  {
   "cell_type": "code",
   "execution_count": null,
   "metadata": {},
   "outputs": [],
   "source": [
    "df['is_covid'] = df.apply(lambda row: 1 if row['days_ago'] < 365 else 0, axis=1)"
   ]
  },
  {
   "cell_type": "code",
   "execution_count": null,
   "metadata": {},
   "outputs": [],
   "source": [
    "df['popularity'] = df.apply(lambda row: math.floor(math.log(row['user_ratings_total'], 10)), axis=1)"
   ]
  },
  {
   "cell_type": "code",
   "execution_count": null,
   "metadata": {},
   "outputs": [],
   "source": []
  },
  {
   "cell_type": "markdown",
   "metadata": {},
   "source": [
    "##### filters"
   ]
  },
  {
   "cell_type": "code",
   "execution_count": null,
   "metadata": {},
   "outputs": [],
   "source": [
    "# at least 5 reviews\n",
    "df = df[df['user_ratings_total'] > 20]"
   ]
  },
  {
   "cell_type": "code",
   "execution_count": null,
   "metadata": {},
   "outputs": [],
   "source": [
    "# has a price level\n",
    "df = df[df['price_level'].notna()]"
   ]
  },
  {
   "cell_type": "code",
   "execution_count": null,
   "metadata": {},
   "outputs": [],
   "source": [
    "# no 4 price level\n",
    "df = df[df['price_level'] < 4 ]"
   ]
  },
  {
   "cell_type": "code",
   "execution_count": null,
   "metadata": {},
   "outputs": [],
   "source": [
    "# time window\n",
    "df = df[df['days_ago'] < 366]"
   ]
  },
  {
   "cell_type": "code",
   "execution_count": null,
   "metadata": {},
   "outputs": [],
   "source": [
    "# was open during covid\n",
    "df = df[df['place_id'].isin(df[df['days_ago']<365]['place_id'])]"
   ]
  },
  {
   "cell_type": "markdown",
   "metadata": {},
   "source": [
    "##### gini: monopolism share "
   ]
  },
  {
   "cell_type": "code",
   "execution_count": null,
   "metadata": {},
   "outputs": [],
   "source": [
    "def ssi(series):\n",
    "    _, cnt = np.unique(series, return_counts=True)\n",
    "    ssi = np.square(cnt/cnt.sum()).sum()\n",
    "    return ssi"
   ]
  },
  {
   "cell_type": "code",
   "execution_count": null,
   "metadata": {},
   "outputs": [],
   "source": [
    "def nhhi(series):\n",
    "    i = 1/len(series)\n",
    "    return (ssi(series) - i)/(1-i)"
   ]
  },
  {
   "cell_type": "code",
   "execution_count": null,
   "metadata": {},
   "outputs": [],
   "source": [
    "def bhhi(series):\n",
    "    i = math.sqrt(1/len(series))\n",
    "    return (math.sqrt(ssi(series)) - i)/(1-i)"
   ]
  },
  {
   "cell_type": "code",
   "execution_count": null,
   "metadata": {},
   "outputs": [],
   "source": []
  },
  {
   "cell_type": "code",
   "execution_count": null,
   "metadata": {},
   "outputs": [],
   "source": [
    "cnt_alg = 'nhhi'\n",
    "cnt_grp = 'price_level' # reload df if != 'type'"
   ]
  },
  {
   "cell_type": "code",
   "execution_count": null,
   "metadata": {},
   "outputs": [],
   "source": [
    "abs_share = df.groupby(['place_id', 'month_past_covid', cnt_grp, ]).size().reset_index(name='counts')\n",
    "del abs_share['place_id']\n",
    "#abs_share"
   ]
  },
  {
   "cell_type": "code",
   "execution_count": null,
   "metadata": {},
   "outputs": [],
   "source": [
    "fn_list = [('ssi', ssi), ('nhhi', nhhi), ]#('bhhi', bhhi), ]\n",
    "dini = abs_share.groupby(['month_past_covid', cnt_grp, ]).agg(fn_list)\n",
    "#dini"
   ]
  },
  {
   "cell_type": "code",
   "execution_count": null,
   "metadata": {},
   "outputs": [],
   "source": [
    "dini.reset_index(inplace=True)\n",
    "dini.columns = dini.columns.map('_'.join).str.strip('_')\n",
    "#dini"
   ]
  },
  {
   "cell_type": "code",
   "execution_count": null,
   "metadata": {},
   "outputs": [],
   "source": [
    "tmp = dini#[dini['type'].isin(['meal_delivery','bar','restaurant',]) ]"
   ]
  },
  {
   "cell_type": "code",
   "execution_count": null,
   "metadata": {},
   "outputs": [],
   "source": [
    "sns.lineplot(data=tmp, x='month_past_covid', y='counts_'+cnt_alg, hue=cnt_grp, style=cnt_grp, markers=True, dashes=False, palette='colorblind')\n",
    "plt.axvline(1, 0, 20, color='red', linewidth=1.2, linestyle='--')\n",
    "plt.axvline(9, 0, 20, color='red', linewidth=1.2, linestyle='--')\n",
    "cheee('')"
   ]
  },
  {
   "cell_type": "code",
   "execution_count": null,
   "metadata": {},
   "outputs": [],
   "source": []
  },
  {
   "cell_type": "markdown",
   "metadata": {},
   "source": [
    "##### athmos"
   ]
  },
  {
   "cell_type": "code",
   "execution_count": null,
   "metadata": {},
   "outputs": [],
   "source": [
    "for t in fnz.cute_types:\n",
    "    f = open(\"marmellate/\"+t+\"_atmos_star.csv\", \"w\")\n",
    "    f.write(df[df[t]].to_csv(index=False))\n",
    "    f.close()"
   ]
  },
  {
   "cell_type": "code",
   "execution_count": null,
   "metadata": {},
   "outputs": [],
   "source": []
  },
  {
   "cell_type": "code",
   "execution_count": null,
   "metadata": {},
   "outputs": [],
   "source": [
    "# athmosphere regresston to stars -- stata"
   ]
  },
  {
   "cell_type": "markdown",
   "metadata": {},
   "source": [
    "##### anova star"
   ]
  },
  {
   "cell_type": "code",
   "execution_count": null,
   "metadata": {},
   "outputs": [],
   "source": [
    "sns.pointplot(data=df, x='month_past_covid', y='stars', hue=cnt_grp, style=cnt_grp, dodge=True, capsize=.1, errwidth=1, palette='colorblind')\n",
    "plt.axvline(2, 0, 20, color='red', linewidth=1.2, linestyle='--')\n",
    "plt.axvline(10, 0, 20, color='red', linewidth=1.2, linestyle='--')\n",
    "cheee('star_popularity')\n",
    "# [df[cnt_grp].isin(['meal_delivery','restaurant',])]"
   ]
  },
  {
   "cell_type": "code",
   "execution_count": null,
   "metadata": {},
   "outputs": [],
   "source": [
    "tmp = abs_share[abs_share['price_level'] != 2.0]\n",
    "sns.pointplot(data=tmp[tmp['month_past_covid'] != -1 ], x='month_past_covid', y='counts', \n",
    "              hue=cnt_grp, style=cnt_grp, dodge=True, capsize=.1, errwidth=1, palette='colorblind', ci=68) # standard-error instead ci\n",
    "plt.axvline(1, 0, 20, color='red', linewidth=1.2, linestyle='--')\n",
    "plt.axvline(9, 0, 20, color='red', linewidth=1.2, linestyle='--')\n",
    "cheee('')"
   ]
  },
  {
   "cell_type": "markdown",
   "metadata": {},
   "source": [
    "##### who close regression"
   ]
  },
  {
   "cell_type": "code",
   "execution_count": null,
   "metadata": {},
   "outputs": [],
   "source": [
    "# see jams"
   ]
  },
  {
   "cell_type": "markdown",
   "metadata": {},
   "source": [
    "##### stats"
   ]
  },
  {
   "cell_type": "code",
   "execution_count": null,
   "metadata": {},
   "outputs": [],
   "source": [
    "a = [i['user_ratings_total'] for i in data if i]"
   ]
  },
  {
   "cell_type": "code",
   "execution_count": null,
   "metadata": {},
   "outputs": [],
   "source": [
    "fig = plt.figure()#figsize=sq_leaf)\n",
    "ax = fig.gca()\n",
    "eps = 1\n",
    "y, x = np.histogram(a, np.arange(0, max(a)+2*eps, eps))\n",
    "ax.plot(x[:-1], y, marker='.',ms=3.0, linewidth=0.0, linestyle='-', color='purple')\n",
    "ax.set_xlim(1, 30)\n",
    "#ax.axes.get_yaxis().set_visible(False)\n",
    "#ax.axvline(x=numpy.mean(a), color='blue', linewidth=1.2)\n",
    "#ax.axvline(x=numpy.median(a), color='red', linewidth=1.2)\n",
    "#ax.text(16, 300000,'$\\mu$')\n",
    "#ax.text(6, 30000,'$0.5q$')"
   ]
  },
  {
   "cell_type": "markdown",
   "metadata": {},
   "source": [
    "**GRMB**\n",
    "- all reg\n",
    "- all anovas\n",
    "- beautifuf sviolinate\n",
    "- beautiful graphs\n",
    "- data = as like as zero knowledge\n",
    "- Herfindahl–Hirschman Index\n",
    "- foreach commercial category\n",
    "- less/more competition? cheap/expens choices? = variance analisys\n",
    "- unbiased stars with delivery? linear model pre-dummy vs post-dummy\n",
    "- memento: who closed regression"
   ]
  }
 ],
 "metadata": {
  "kernelspec": {
   "display_name": "Python 3",
   "language": "python",
   "name": "python3"
  },
  "language_info": {
   "codemirror_mode": {
    "name": "ipython",
    "version": 3
   },
   "file_extension": ".py",
   "mimetype": "text/x-python",
   "name": "python",
   "nbconvert_exporter": "python",
   "pygments_lexer": "ipython3",
   "version": "3.8.5"
  }
 },
 "nbformat": 4,
 "nbformat_minor": 5
}
